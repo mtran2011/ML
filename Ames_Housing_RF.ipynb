{
 "cells": [
  {
   "cell_type": "code",
   "execution_count": 62,
   "metadata": {
    "collapsed": true
   },
   "outputs": [],
   "source": [
    "import numpy as np\n",
    "import pandas as pd\n",
    "import scipy.stats as st\n",
    "from sklearn import preprocessing, ensemble, cross_validation"
   ]
  },
  {
   "cell_type": "code",
   "execution_count": 55,
   "metadata": {
    "collapsed": false
   },
   "outputs": [],
   "source": [
    "df_train = pd.read_csv('train.csv')\n",
    "df_test = pd.read_csv('test.csv')"
   ]
  },
  {
   "cell_type": "code",
   "execution_count": 58,
   "metadata": {
    "collapsed": true
   },
   "outputs": [],
   "source": [
    "# cast certain columns to float64 since sklearn treats int as categorical\n",
    "def cast_to_float(df, col_names):\n",
    "    for col in col_names:\n",
    "        df[col] = df[col].astype(float, copy=False)"
   ]
  },
  {
   "cell_type": "code",
   "execution_count": 51,
   "metadata": {
    "collapsed": false
   },
   "outputs": [],
   "source": [
    "def encode_onehot(df):\n",
    "    categorical_col_names = df.dtypes[df.dtypes == 'object'].index.values\n",
    "    return pd.get_dummies(df, columns=categorical_col_names)"
   ]
  },
  {
   "cell_type": "code",
   "execution_count": null,
   "metadata": {
    "collapsed": false
   },
   "outputs": [],
   "source": [
    "def rf_regress(df_X, y, n_trees=200, loss_criterion='mse', min_node_size=5):    \n",
    "    # loss_criterion could be mse or mae\n",
    "    # num features used for a tree = num_features * 0.33\n",
    "    num_features = df_X.columns.size\n",
    "    rf_regr = ensemble.RandomForestRegressor(n_estimators=n_trees,\n",
    "                                             criterion=loss_criterion,\n",
    "                                             max_features=0.33,\n",
    "                                             min_samples_leaf=min_node_size)\n",
    "    rf_regr = rf_regr.fit(df_X, y)\n",
    "    return rf_regr"
   ]
  },
  {
   "cell_type": "code",
   "execution_count": 73,
   "metadata": {
    "collapsed": false
   },
   "outputs": [],
   "source": [
    "need_float_col_names = ['LotArea', 'BsmtFinSF1', 'BsmtFinSF2', 'BsmtUnfSF', 'TotalBsmtSF', '1stFlrSF', '2ndFlrSF', \n",
    "                        'LowQualFinSF', 'GrLivArea', 'GarageArea', 'WoodDeckSF', 'OpenPorchSF', 'EnclosedPorch', '3SsnPorch', \n",
    "                        'ScreenPorch', 'PoolArea', 'MiscVal', 'SalePrice']"
   ]
  },
  {
   "cell_type": "code",
   "execution_count": null,
   "metadata": {
    "collapsed": true
   },
   "outputs": [],
   "source": []
  }
 ],
 "metadata": {
  "kernelspec": {
   "display_name": "Python 3",
   "language": "python",
   "name": "python3"
  },
  "language_info": {
   "codemirror_mode": {
    "name": "ipython",
    "version": 3
   },
   "file_extension": ".py",
   "mimetype": "text/x-python",
   "name": "python",
   "nbconvert_exporter": "python",
   "pygments_lexer": "ipython3",
   "version": "3.6.0"
  }
 },
 "nbformat": 4,
 "nbformat_minor": 2
}
