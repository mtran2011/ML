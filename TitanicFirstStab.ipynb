{
 "cells": [
  {
   "cell_type": "code",
   "execution_count": 18,
   "metadata": {
    "collapsed": true
   },
   "outputs": [],
   "source": [
    "import numpy as np\n",
    "import pandas as pd\n",
    "\n",
    "df_train = pd.read_csv('../input/train.csv')\n",
    "df_predict = pd.read_csv('../input/test.csv')"
   ]
  },
  {
   "cell_type": "code",
   "execution_count": 19,
   "metadata": {
    "collapsed": false
   },
   "outputs": [
    {
     "name": "stdout",
     "output_type": "stream",
     "text": [
      "             train NaN\n",
      "PassengerId          0\n",
      "Survived             0\n",
      "Pclass               0\n",
      "Name                 0\n",
      "Sex                  0\n",
      "Age                177\n",
      "SibSp                0\n",
      "Parch                0\n",
      "Ticket               0\n",
      "Fare                 0\n",
      "Cabin              687\n",
      "Embarked             2 \n",
      "\n",
      "              test NaN\n",
      "PassengerId         0\n",
      "Pclass              0\n",
      "Name                0\n",
      "Sex                 0\n",
      "Age                86\n",
      "SibSp               0\n",
      "Parch               0\n",
      "Ticket              0\n",
      "Fare                1\n",
      "Cabin             327\n",
      "Embarked            0\n"
     ]
    },
    {
     "data": {
      "text/html": [
       "<div>\n",
       "<table border=\"1\" class=\"dataframe\">\n",
       "  <thead>\n",
       "    <tr style=\"text-align: right;\">\n",
       "      <th></th>\n",
       "      <th>PassengerId</th>\n",
       "      <th>Survived</th>\n",
       "      <th>Pclass</th>\n",
       "      <th>Name</th>\n",
       "      <th>Sex</th>\n",
       "      <th>Age</th>\n",
       "      <th>SibSp</th>\n",
       "      <th>Parch</th>\n",
       "      <th>Ticket</th>\n",
       "      <th>Fare</th>\n",
       "      <th>Cabin</th>\n",
       "      <th>Embarked</th>\n",
       "    </tr>\n",
       "  </thead>\n",
       "  <tbody>\n",
       "    <tr>\n",
       "      <th>0</th>\n",
       "      <td>1</td>\n",
       "      <td>0</td>\n",
       "      <td>3</td>\n",
       "      <td>Braund, Mr. Owen Harris</td>\n",
       "      <td>male</td>\n",
       "      <td>22.0</td>\n",
       "      <td>1</td>\n",
       "      <td>0</td>\n",
       "      <td>A/5 21171</td>\n",
       "      <td>7.2500</td>\n",
       "      <td>NaN</td>\n",
       "      <td>S</td>\n",
       "    </tr>\n",
       "    <tr>\n",
       "      <th>1</th>\n",
       "      <td>2</td>\n",
       "      <td>1</td>\n",
       "      <td>1</td>\n",
       "      <td>Cumings, Mrs. John Bradley (Florence Briggs Th...</td>\n",
       "      <td>female</td>\n",
       "      <td>38.0</td>\n",
       "      <td>1</td>\n",
       "      <td>0</td>\n",
       "      <td>PC 17599</td>\n",
       "      <td>71.2833</td>\n",
       "      <td>C85</td>\n",
       "      <td>C</td>\n",
       "    </tr>\n",
       "    <tr>\n",
       "      <th>2</th>\n",
       "      <td>3</td>\n",
       "      <td>1</td>\n",
       "      <td>3</td>\n",
       "      <td>Heikkinen, Miss. Laina</td>\n",
       "      <td>female</td>\n",
       "      <td>26.0</td>\n",
       "      <td>0</td>\n",
       "      <td>0</td>\n",
       "      <td>STON/O2. 3101282</td>\n",
       "      <td>7.9250</td>\n",
       "      <td>NaN</td>\n",
       "      <td>S</td>\n",
       "    </tr>\n",
       "  </tbody>\n",
       "</table>\n",
       "</div>"
      ],
      "text/plain": [
       "   PassengerId  Survived  Pclass  \\\n",
       "0            1         0       3   \n",
       "1            2         1       1   \n",
       "2            3         1       3   \n",
       "\n",
       "                                                Name     Sex   Age  SibSp  \\\n",
       "0                            Braund, Mr. Owen Harris    male  22.0      1   \n",
       "1  Cumings, Mrs. John Bradley (Florence Briggs Th...  female  38.0      1   \n",
       "2                             Heikkinen, Miss. Laina  female  26.0      0   \n",
       "\n",
       "   Parch            Ticket     Fare Cabin Embarked  \n",
       "0      0         A/5 21171   7.2500   NaN        S  \n",
       "1      0          PC 17599  71.2833   C85        C  \n",
       "2      0  STON/O2. 3101282   7.9250   NaN        S  "
      ]
     },
     "execution_count": 19,
     "metadata": {},
     "output_type": "execute_result"
    }
   ],
   "source": [
    "print(pd.DataFrame(df_train.isnull().sum(), columns=['train NaN']), '\\n' * 2,\n",
    "      pd.DataFrame(df_predict.isnull().sum(), columns=['test NaN']))\n",
    "df_train.head(3)"
   ]
  },
  {
   "cell_type": "code",
   "execution_count": 36,
   "metadata": {
    "collapsed": true
   },
   "outputs": [],
   "source": [
    "def process_raw_df(df):        \n",
    "    df_data = df.drop(['PassengerId', 'Age', 'Ticket', 'Cabin', 'Name'], axis=1)\n",
    "    \n",
    "    df_data['HasCabin'] = df['Cabin'].apply(lambda x: 0 if type(x)==float else 1)\n",
    "    df_data['Embarked'] = df_data['Embarked'].fillna('S')\n",
    "    df_data['Fare'] = df_data['Fare'].fillna(df_data['Fare'].median())\n",
    "    \n",
    "    try:\n",
    "        se_Y = df_data['Survived']\n",
    "        df_X = df_data.drop(['Survived'], axis=1)\n",
    "    except KeyError:\n",
    "        se_Y = None\n",
    "        df_X = df_data    \n",
    "    \n",
    "    df_X = pd.get_dummies(df_X).drop(['Sex_female', 'Embarked_S'], axis=1)\n",
    "    return df_X, se_Y"
   ]
  },
  {
   "cell_type": "code",
   "execution_count": 48,
   "metadata": {
    "collapsed": false
   },
   "outputs": [],
   "source": [
    "df_Xtrain, se_Ytrain = process_raw_df(df_train)\n",
    "df_Xpredict, _ = process_raw_df(df_predict)"
   ]
  },
  {
   "cell_type": "code",
   "execution_count": 61,
   "metadata": {
    "collapsed": false
   },
   "outputs": [],
   "source": [
    "from sklearn.ensemble import AdaBoostClassifier\n",
    "from sklearn.tree import DecisionTreeClassifier\n",
    "from sklearn.model_selection import GridSearchCV\n",
    "from sklearn.model_selection import cross_val_score\n",
    "\n",
    "n_leafs = list(range(3,9))\n",
    "n_trees = []\n",
    "clfs = [] \n",
    "for n_leaf in n_leafs:\n",
    "    # for each n_leaf, find the best number of trees n_tree\n",
    "    adb = AdaBoostClassifier(base_estimator = DecisionTreeClassifier(max_leaf_nodes=n_leaf))\n",
    "    n_tree_grid = {'n_estimators': list(range(50,1025,25))}\n",
    "    gcv = GridSearchCV(adb, n_tree_grid, cv=5)\n",
    "    gcv.fit(df_Xtrain, se_Ytrain)\n",
    "    # best_params_ is a dict like so {'n_estimators': 75} \n",
    "    n_trees.append(gcv.best_params_['n_estimators'])\n",
    "    clfs.append(gcv.best_estimator_)"
   ]
  },
  {
   "cell_type": "code",
   "execution_count": 62,
   "metadata": {
    "collapsed": true
   },
   "outputs": [],
   "source": [
    "# now score the clfs using k-fold or Repeated K-Fold\n",
    "# use the same set of folds to compare the clfs, or random sets each time\n",
    "score_means = []\n",
    "score_stds = []\n",
    "for n_leaf, n_tree, clf in zip(n_leafs, n_trees, clfs):\n",
    "    scores = cross_val_score(clf, df_Xtrain, se_Ytrain, cv=5)\n",
    "    score_means.append(scores.mean())\n",
    "    score_stds.append(scores.std())"
   ]
  },
  {
   "cell_type": "code",
   "execution_count": 64,
   "metadata": {
    "collapsed": false
   },
   "outputs": [
    {
     "data": {
      "image/png": "[encoded data removed]",
      "text/plain": [
       "<matplotlib.figure.Figure at 0xc2454a8>"
      ]
     },
     "metadata": {},
     "output_type": "display_data"
    }
   ],
   "source": [
    "import matplotlib.pyplot as plt\n",
    "%matplotlib inline\n",
    "\n",
    "x_tickmarks = ['nleafs: {0}, ntrees: {1}'.format(i, j) for i, j in zip(n_leafs, n_trees)]\n",
    "x = range(len(x_tickmarks))\n",
    "plt.figure()\n",
    "plt.scatter(x, score_means, marker='o', label='mean of cv scores')\n",
    "plt.scatter(x, score_stds, marker='X', label='std of cv scores')\n",
    "plt.legend(loc='best')\n",
    "plt.title('Scoring Adaboost models')\n",
    "plt.xlabel('Model parameters')\n",
    "plt.xticks(x, x_tickmarks, rotation='vertical')\n",
    "plt.margins(0.2)"
   ]
  },
  {
   "cell_type": "code",
   "execution_count": 65,
   "metadata": {
    "collapsed": true
   },
   "outputs": [],
   "source": [
    "best_adb = clfs[score_means.index(max(score_means))]\n",
    "predictions = best_adb.predict(df_Xpredict)\n",
    "df_submit = pd.DataFrame({'PassengerId': df_predict['PassengerId'], \n",
    "                          'Survived': predictions})\n",
    "df_submit.to_csv('submit.csv', index=False)"
   ]
  },
  {
   "cell_type": "code",
   "execution_count": null,
   "metadata": {
    "collapsed": true
   },
   "outputs": [],
   "source": []
  }
 ],
 "metadata": {
  "kernelspec": {
   "display_name": "Python 3",
   "language": "python",
   "name": "python3"
  },
  "language_info": {
   "codemirror_mode": {
    "name": "ipython",
    "version": 3
   },
   "file_extension": ".py",
   "mimetype": "text/x-python",
   "name": "python",
   "nbconvert_exporter": "python",
   "pygments_lexer": "ipython3",
   "version": "3.6.0"
  }
 },
 "nbformat": 4,
 "nbformat_minor": 2
}
