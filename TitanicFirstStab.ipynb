{
 "cells": [
  {
   "cell_type": "code",
   "execution_count": 2,
   "metadata": {
    "collapsed": false
   },
   "outputs": [],
   "source": [
    "import math\n",
    "import numpy as np\n",
    "import pandas as pd\n",
    "from sklearn.ensemble import AdaBoostClassifier, RandomForestClassifier, GradientBoostingClassifier\n",
    "from sklearn.tree import DecisionTreeClassifier\n",
    "from sklearn import svm\n",
    "from sklearn.model_selection import GridSearchCV, cross_val_score, KFold\n",
    "import matplotlib.pyplot as plt\n",
    "import seaborn as sns\n",
    "%matplotlib inline\n",
    "\n",
    "def process_raw_df(df):        \n",
    "    df_data = df.drop(['PassengerId', 'Age', 'Ticket', 'Cabin', 'Name'], axis=1)\n",
    "    \n",
    "    df_data['HasCabin'] = df['Cabin'].apply(lambda x: 0 if type(x)==float else 1)\n",
    "    df_data['Embarked'] = df_data['Embarked'].fillna('S')\n",
    "    df_data['Fare'] = df_data['Fare'].fillna(df_data['Fare'].median())\n",
    "    \n",
    "    try:\n",
    "        se_Y = df_data['Survived']\n",
    "        df_data = df_data.drop(['Survived'], axis=1)\n",
    "    except KeyError:\n",
    "        se_Y = None        \n",
    "    \n",
    "    df_data = pd.get_dummies(df_data).drop(['Sex_female', 'Embarked_S'], axis=1)\n",
    "    return df_data, se_Y\n",
    "\n",
    "df_train = pd.read_csv('../input/train.csv')\n",
    "df_test = pd.read_csv('../input/test.csv')\n",
    "\n",
    "df_Xtrain, se_Ytrain = process_raw_df(df_train)\n",
    "df_Xtest, _ = process_raw_df(df_test)"
   ]
  },
  {
   "cell_type": "code",
   "execution_count": 3,
   "metadata": {
    "collapsed": false
   },
   "outputs": [
    {
     "data": {
      "image/png": "[encoded data removed]",
      "text/plain": [
       "<matplotlib.figure.Figure at 0x6971d68>"
      ]
     },
     "metadata": {},
     "output_type": "display_data"
    }
   ],
   "source": [
    "##############################################################################################\n",
    "# Adaboost\n",
    "##############################################################################################\n",
    "\n",
    "n_leafs = list(range(3,9))\n",
    "n_trees = []\n",
    "adb_clfs = [] \n",
    "for n_leaf in n_leafs:\n",
    "    # for each n_leaf, find the best number of trees n_tree\n",
    "    adb = AdaBoostClassifier(base_estimator = DecisionTreeClassifier(max_leaf_nodes = n_leaf))\n",
    "    n_tree_grid = {'n_estimators': list(range(50,1050,100))}\n",
    "    gcv = GridSearchCV(adb, param_grid=n_tree_grid, n_jobs=2, refit=True, cv=5)\n",
    "    gcv.fit(df_Xtrain, se_Ytrain)\n",
    "    # best_params_ is a dict like so {'n_estimators': 75} \n",
    "    n_trees.append(gcv.best_params_['n_estimators'])\n",
    "    adb_clfs.append(gcv.best_estimator_)\n",
    "    \n",
    "# now score the adb_clfs using Repeated K-Fold\n",
    "score_means = []\n",
    "score_stds = []\n",
    "for n_leaf, n_tree, adb_clf in zip(n_leafs, n_trees, adb_clfs):\n",
    "    scores = cross_val_score(adb_clf, df_Xtrain, se_Ytrain, cv=5)\n",
    "    score_means.append(scores.mean())\n",
    "    score_stds.append(scores.std())\n",
    "\n",
    "best_adb = adb_clfs[score_means.index(max(score_means))]\n",
    "    \n",
    "\n",
    "# plot Adaboost result\n",
    "plt.figure()\n",
    "x_tickmarks = ['nleafs: {0}, ntrees: {1}'.format(i, j) for i, j in zip(n_leafs, n_trees)]\n",
    "plt.scatter(range(len(x_tickmarks)), score_means, marker='o', label='mean of cv scores')\n",
    "plt.scatter(range(len(x_tickmarks)), score_stds, marker='X', label='std of cv scores')\n",
    "plt.legend(loc='best')\n",
    "plt.title('Scoring Adaboost models')\n",
    "plt.xlabel('Model parameters')\n",
    "plt.xticks(range(len(x_tickmarks)), x_tickmarks, rotation='vertical')\n",
    "plt.margins(0.2)\n",
    "plt.show()"
   ]
  },
  {
   "cell_type": "code",
   "execution_count": 4,
   "metadata": {
    "collapsed": true
   },
   "outputs": [],
   "source": [
    "##############################################################################################\n",
    "# Random Forest\n",
    "##############################################################################################\n",
    "rf_param_grid = {'n_estimators': list(range(50,650,100)),\n",
    "                 'max_features': [0.2, 0.4, 0.6, 0.8],\n",
    "                 'min_samples_leaf': [1,5,10,20,50]}\n",
    "gcv = GridSearchCV(RandomForestClassifier(oob_score=True), \n",
    "                   param_grid = rf_param_grid, \n",
    "                   n_jobs = 2, \n",
    "                   refit = True, \n",
    "                   cv = 5)\n",
    "gcv.fit(df_Xtrain, se_Ytrain)\n",
    "best_rf = gcv.best_estimator_"
   ]
  },
  {
   "cell_type": "code",
   "execution_count": 6,
   "metadata": {
    "collapsed": false
   },
   "outputs": [],
   "source": [
    "##############################################################################################\n",
    "# SVM\n",
    "##############################################################################################\n",
    "svm_param_grid = {'kernel': ['rbf', 'sigmoid'],                  \n",
    "                  'C': np.logspace(-2, 0.5, num=5, base=round(math.exp(1), 4)),\n",
    "                  'gamma': np.logspace(-4, 4, num=8, base=round(math.exp(1), 4))}\n",
    "gcv = GridSearchCV(svm.SVC(cache_size=8192), param_grid=svm_param_grid, n_jobs=2, refit=True, cv=5)\n",
    "gcv.fit(df_Xtrain, se_Ytrain)\n",
    "best_svm = gcv.best_estimator_"
   ]
  },
  {
   "cell_type": "code",
   "execution_count": 8,
   "metadata": {
    "collapsed": false
   },
   "outputs": [
    {
     "data": {
      "text/plain": [
       "GradientBoostingClassifier(criterion='friedman_mse', init=None,\n",
       "              learning_rate=0.1, loss='deviance', max_depth=3,\n",
       "              max_features=None, max_leaf_nodes=6,\n",
       "              min_impurity_split=1e-07, min_samples_leaf=1,\n",
       "              min_samples_split=2, min_weight_fraction_leaf=0.0,\n",
       "              n_estimators=250, presort='auto', random_state=None,\n",
       "              subsample=1.0, verbose=0, warm_start=False)"
      ]
     },
     "execution_count": 8,
     "metadata": {},
     "output_type": "execute_result"
    }
   ],
   "source": [
    "##############################################################################################\n",
    "# Stacking\n",
    "##############################################################################################\n",
    "base_clfs = [best_adb, best_svm, best_rf]\n",
    "base_model_names = ['Adaboost', 'SVM', 'RF']\n",
    "base_kfold_predictions = pd.DataFrame({model_name: np.zeros(df_Xtrain.shape[0]) for model_name in base_model_names},\n",
    "                                       index=df_Xtrain.index) \n",
    "base_testset_predictions = pd.DataFrame({model_name: np.zeros(df_Xtest.shape[0]) for model_name in base_model_names},\n",
    "                                         index=df_Xtest.index)\n",
    "\n",
    "# with base_clf fully fit on all train data, use each base_clf to predict on test data\n",
    "for base_clf, model_name in zip(base_clfs, base_model_names):\n",
    "    base_testset_predictions.loc[:, model_name] = base_clf.predict(df_Xtest)\n",
    "\n",
    "    # Split the train data to 5 folds. For each fold being the validation_fold:\n",
    "# Fit the base model to the remaining data and predict on the validation_fold                                      \n",
    "kf = KFold(n_splits=5, shuffle=True)\n",
    "for train_indexes, valid_indexes in kf.split(df_Xtrain, se_Ytrain):\n",
    "    df_kfold_Xtrain, df_kfold_Xvalid = df_Xtrain.loc[train_indexes, :], df_Xtrain.loc[valid_indexes, :]\n",
    "    se_kfold_Ytrain, se_kfold_Yvalid = se_Ytrain.iloc[train_indexes], se_Ytrain.iloc[valid_indexes]\n",
    "    \n",
    "    for base_clf, model_name in zip(base_clfs, base_model_names):\n",
    "        base_clf.fit(df_kfold_Xtrain, se_kfold_Ytrain)\n",
    "        base_kfold_predictions.loc[valid_indexes, model_name] = base_clf.predict(df_kfold_Xvalid)\n",
    "\n",
    "# add base_kfold_predictions as features to df_Xtrain\n",
    "df_Xtrain = pd.concat([df_Xtrain, base_kfold_predictions], axis=1)\n",
    "df_Xtest = pd.concat([df_Xtest, base_testset_predictions], axis=1)\n",
    "\n",
    "stack_clf = GradientBoostingClassifier(n_estimators=250, learning_rate=0.1, max_leaf_nodes=6)\n",
    "stack_clf.fit(df_Xtrain, se_Ytrain)"
   ]
  },
  {
   "cell_type": "code",
   "execution_count": 9,
   "metadata": {
    "collapsed": true
   },
   "outputs": [],
   "source": [
    "##############################################################################################\n",
    "predictions = stack_clf.predict(df_Xtest)\n",
    "df_submit = pd.DataFrame({'PassengerId': df_test['PassengerId'], \n",
    "                          'Survived': predictions})\n",
    "df_submit.to_csv('submit_stacked.csv', index=False)"
   ]
  }
 ],
 "metadata": {
  "kernelspec": {
   "display_name": "Python 3",
   "language": "python",
   "name": "python3"
  },
  "language_info": {
   "codemirror_mode": {
    "name": "ipython",
    "version": 3
   },
   "file_extension": ".py",
   "mimetype": "text/x-python",
   "name": "python",
   "nbconvert_exporter": "python",
   "pygments_lexer": "ipython3",
   "version": "3.6.0"
  }
 },
 "nbformat": 4,
 "nbformat_minor": 2
}
